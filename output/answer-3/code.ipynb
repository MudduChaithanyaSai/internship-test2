{
  "nbformat": 4,
  "nbformat_minor": 0,
  "metadata": {
    "colab": {
      "name": "code3.ipynb",
      "provenance": []
    },
    "kernelspec": {
      "name": "python3",
      "display_name": "Python 3"
    },
    "language_info": {
      "name": "python"
    }
  },
  "cells": [
    {
      "cell_type": "code",
      "metadata": {
        "colab": {
          "base_uri": "https://localhost:8080/"
        },
        "id": "ficGFqfMqPLP",
        "outputId": "f89c061f-b95a-45df-e662-8dd3965bdeb8"
      },
      "source": [
        "#use this only if you are using google colab for running the code\n",
        "!git clone https://github.com/MudduChaithanyaSai/internship-test2.git"
      ],
      "execution_count": 2,
      "outputs": [
        {
          "output_type": "stream",
          "name": "stdout",
          "text": [
            "fatal: destination path 'internship-test2' already exists and is not an empty directory.\n"
          ]
        }
      ]
    },
    {
      "cell_type": "code",
      "metadata": {
        "id": "CJrzMvVrqkV3"
      },
      "source": [
        "import pandas as pd"
      ],
      "execution_count": 4,
      "outputs": []
    },
    {
      "cell_type": "code",
      "metadata": {
        "id": "NJIB5kouqXcB"
      },
      "source": [
        "data_path = \"/content/internship-test2/input/question-3/main.csv\""
      ],
      "execution_count": 3,
      "outputs": []
    },
    {
      "cell_type": "code",
      "metadata": {
        "id": "ekWobOC2qheV"
      },
      "source": [
        "df = pd.read_csv(data_path)"
      ],
      "execution_count": 5,
      "outputs": []
    },
    {
      "cell_type": "code",
      "metadata": {
        "colab": {
          "base_uri": "https://localhost:8080/",
          "height": 295
        },
        "id": "ICoywccOqpt2",
        "outputId": "2a9c469b-c831-4010-a362-f2e8878cd00f"
      },
      "source": [
        "df.head()"
      ],
      "execution_count": 6,
      "outputs": [
        {
          "output_type": "execute_result",
          "data": {
            "text/html": [
              "<div>\n",
              "<style scoped>\n",
              "    .dataframe tbody tr th:only-of-type {\n",
              "        vertical-align: middle;\n",
              "    }\n",
              "\n",
              "    .dataframe tbody tr th {\n",
              "        vertical-align: top;\n",
              "    }\n",
              "\n",
              "    .dataframe thead th {\n",
              "        text-align: right;\n",
              "    }\n",
              "</style>\n",
              "<table border=\"1\" class=\"dataframe\">\n",
              "  <thead>\n",
              "    <tr style=\"text-align: right;\">\n",
              "      <th></th>\n",
              "      <th>Team</th>\n",
              "      <th>Goals</th>\n",
              "      <th>Shots on target</th>\n",
              "      <th>Shots off target</th>\n",
              "      <th>Shooting Accuracy</th>\n",
              "      <th>% Goals-to-shots</th>\n",
              "      <th>Total shots (inc. Blocked)</th>\n",
              "      <th>Hit Woodwork</th>\n",
              "      <th>Penalty goals</th>\n",
              "      <th>Penalties not scored</th>\n",
              "      <th>Headed goals</th>\n",
              "      <th>Passes</th>\n",
              "      <th>Passes completed</th>\n",
              "      <th>Passing Accuracy</th>\n",
              "      <th>Touches</th>\n",
              "      <th>Crosses</th>\n",
              "      <th>Dribbles</th>\n",
              "      <th>Corners Taken</th>\n",
              "      <th>Tackles</th>\n",
              "      <th>Clearances</th>\n",
              "      <th>Interceptions</th>\n",
              "      <th>Clearances off line</th>\n",
              "      <th>Clean Sheets</th>\n",
              "      <th>Blocks</th>\n",
              "      <th>Goals conceded</th>\n",
              "      <th>Saves made</th>\n",
              "      <th>Saves-to-shots ratio</th>\n",
              "      <th>Fouls Won</th>\n",
              "      <th>Fouls Conceded</th>\n",
              "      <th>Offsides</th>\n",
              "      <th>Yellow Cards</th>\n",
              "      <th>Red Cards</th>\n",
              "      <th>Subs on</th>\n",
              "      <th>Subs off</th>\n",
              "      <th>Players Used</th>\n",
              "    </tr>\n",
              "  </thead>\n",
              "  <tbody>\n",
              "    <tr>\n",
              "      <th>0</th>\n",
              "      <td>Croatia</td>\n",
              "      <td>4</td>\n",
              "      <td>13</td>\n",
              "      <td>12</td>\n",
              "      <td>51.9%</td>\n",
              "      <td>16.0%</td>\n",
              "      <td>32</td>\n",
              "      <td>0</td>\n",
              "      <td>0</td>\n",
              "      <td>0</td>\n",
              "      <td>2</td>\n",
              "      <td>1076</td>\n",
              "      <td>828</td>\n",
              "      <td>76.9%</td>\n",
              "      <td>1706</td>\n",
              "      <td>60</td>\n",
              "      <td>42</td>\n",
              "      <td>14</td>\n",
              "      <td>49</td>\n",
              "      <td>83</td>\n",
              "      <td>56</td>\n",
              "      <td>NaN</td>\n",
              "      <td>0</td>\n",
              "      <td>10</td>\n",
              "      <td>3</td>\n",
              "      <td>13</td>\n",
              "      <td>81.3%</td>\n",
              "      <td>41</td>\n",
              "      <td>62</td>\n",
              "      <td>2</td>\n",
              "      <td>9</td>\n",
              "      <td>0</td>\n",
              "      <td>9</td>\n",
              "      <td>9</td>\n",
              "      <td>16</td>\n",
              "    </tr>\n",
              "    <tr>\n",
              "      <th>1</th>\n",
              "      <td>Czech Republic</td>\n",
              "      <td>4</td>\n",
              "      <td>13</td>\n",
              "      <td>18</td>\n",
              "      <td>41.9%</td>\n",
              "      <td>12.9%</td>\n",
              "      <td>39</td>\n",
              "      <td>0</td>\n",
              "      <td>0</td>\n",
              "      <td>0</td>\n",
              "      <td>0</td>\n",
              "      <td>1565</td>\n",
              "      <td>1223</td>\n",
              "      <td>78.1%</td>\n",
              "      <td>2358</td>\n",
              "      <td>46</td>\n",
              "      <td>68</td>\n",
              "      <td>21</td>\n",
              "      <td>62</td>\n",
              "      <td>98</td>\n",
              "      <td>37</td>\n",
              "      <td>2.0</td>\n",
              "      <td>1</td>\n",
              "      <td>10</td>\n",
              "      <td>6</td>\n",
              "      <td>9</td>\n",
              "      <td>60.1%</td>\n",
              "      <td>53</td>\n",
              "      <td>73</td>\n",
              "      <td>8</td>\n",
              "      <td>7</td>\n",
              "      <td>0</td>\n",
              "      <td>11</td>\n",
              "      <td>11</td>\n",
              "      <td>19</td>\n",
              "    </tr>\n",
              "    <tr>\n",
              "      <th>2</th>\n",
              "      <td>Denmark</td>\n",
              "      <td>4</td>\n",
              "      <td>10</td>\n",
              "      <td>10</td>\n",
              "      <td>50.0%</td>\n",
              "      <td>20.0%</td>\n",
              "      <td>27</td>\n",
              "      <td>1</td>\n",
              "      <td>0</td>\n",
              "      <td>0</td>\n",
              "      <td>3</td>\n",
              "      <td>1298</td>\n",
              "      <td>1082</td>\n",
              "      <td>83.3%</td>\n",
              "      <td>1873</td>\n",
              "      <td>43</td>\n",
              "      <td>32</td>\n",
              "      <td>16</td>\n",
              "      <td>40</td>\n",
              "      <td>61</td>\n",
              "      <td>59</td>\n",
              "      <td>0.0</td>\n",
              "      <td>1</td>\n",
              "      <td>10</td>\n",
              "      <td>5</td>\n",
              "      <td>10</td>\n",
              "      <td>66.7%</td>\n",
              "      <td>25</td>\n",
              "      <td>38</td>\n",
              "      <td>8</td>\n",
              "      <td>4</td>\n",
              "      <td>0</td>\n",
              "      <td>7</td>\n",
              "      <td>7</td>\n",
              "      <td>15</td>\n",
              "    </tr>\n",
              "    <tr>\n",
              "      <th>3</th>\n",
              "      <td>England</td>\n",
              "      <td>5</td>\n",
              "      <td>11</td>\n",
              "      <td>18</td>\n",
              "      <td>50.0%</td>\n",
              "      <td>17.2%</td>\n",
              "      <td>40</td>\n",
              "      <td>0</td>\n",
              "      <td>0</td>\n",
              "      <td>0</td>\n",
              "      <td>3</td>\n",
              "      <td>1488</td>\n",
              "      <td>1200</td>\n",
              "      <td>80.6%</td>\n",
              "      <td>2440</td>\n",
              "      <td>58</td>\n",
              "      <td>60</td>\n",
              "      <td>16</td>\n",
              "      <td>86</td>\n",
              "      <td>106</td>\n",
              "      <td>72</td>\n",
              "      <td>1.0</td>\n",
              "      <td>2</td>\n",
              "      <td>29</td>\n",
              "      <td>3</td>\n",
              "      <td>22</td>\n",
              "      <td>88.1%</td>\n",
              "      <td>43</td>\n",
              "      <td>45</td>\n",
              "      <td>6</td>\n",
              "      <td>5</td>\n",
              "      <td>0</td>\n",
              "      <td>11</td>\n",
              "      <td>11</td>\n",
              "      <td>16</td>\n",
              "    </tr>\n",
              "    <tr>\n",
              "      <th>4</th>\n",
              "      <td>France</td>\n",
              "      <td>3</td>\n",
              "      <td>22</td>\n",
              "      <td>24</td>\n",
              "      <td>37.9%</td>\n",
              "      <td>6.5%</td>\n",
              "      <td>65</td>\n",
              "      <td>1</td>\n",
              "      <td>0</td>\n",
              "      <td>0</td>\n",
              "      <td>0</td>\n",
              "      <td>2066</td>\n",
              "      <td>1803</td>\n",
              "      <td>87.2%</td>\n",
              "      <td>2909</td>\n",
              "      <td>55</td>\n",
              "      <td>76</td>\n",
              "      <td>28</td>\n",
              "      <td>71</td>\n",
              "      <td>76</td>\n",
              "      <td>58</td>\n",
              "      <td>0.0</td>\n",
              "      <td>1</td>\n",
              "      <td>7</td>\n",
              "      <td>5</td>\n",
              "      <td>6</td>\n",
              "      <td>54.6%</td>\n",
              "      <td>36</td>\n",
              "      <td>51</td>\n",
              "      <td>5</td>\n",
              "      <td>6</td>\n",
              "      <td>0</td>\n",
              "      <td>11</td>\n",
              "      <td>11</td>\n",
              "      <td>19</td>\n",
              "    </tr>\n",
              "  </tbody>\n",
              "</table>\n",
              "</div>"
            ],
            "text/plain": [
              "             Team  Goals  Shots on target  ...  Subs on Subs off Players Used\n",
              "0         Croatia      4               13  ...        9        9           16\n",
              "1  Czech Republic      4               13  ...       11       11           19\n",
              "2         Denmark      4               10  ...        7        7           15\n",
              "3         England      5               11  ...       11       11           16\n",
              "4          France      3               22  ...       11       11           19\n",
              "\n",
              "[5 rows x 35 columns]"
            ]
          },
          "metadata": {},
          "execution_count": 6
        }
      ]
    },
    {
      "cell_type": "code",
      "metadata": {
        "colab": {
          "base_uri": "https://localhost:8080/"
        },
        "id": "8EOlqpUbqqjA",
        "outputId": "13a9f602-7492-4070-e031-fb27dcb3246b"
      },
      "source": [
        "df.keys()"
      ],
      "execution_count": 7,
      "outputs": [
        {
          "output_type": "execute_result",
          "data": {
            "text/plain": [
              "Index(['Team', 'Goals', 'Shots on target', 'Shots off target',\n",
              "       'Shooting Accuracy', '% Goals-to-shots', 'Total shots (inc. Blocked)',\n",
              "       'Hit Woodwork', 'Penalty goals', 'Penalties not scored', 'Headed goals',\n",
              "       'Passes', 'Passes completed', 'Passing Accuracy', 'Touches', 'Crosses',\n",
              "       'Dribbles', 'Corners Taken', 'Tackles', 'Clearances', 'Interceptions',\n",
              "       'Clearances off line', 'Clean Sheets', 'Blocks', 'Goals conceded',\n",
              "       'Saves made', 'Saves-to-shots ratio', 'Fouls Won', 'Fouls Conceded',\n",
              "       'Offsides', 'Yellow Cards', 'Red Cards', 'Subs on', 'Subs off',\n",
              "       'Players Used'],\n",
              "      dtype='object')"
            ]
          },
          "metadata": {},
          "execution_count": 7
        }
      ]
    },
    {
      "cell_type": "code",
      "metadata": {
        "id": "oY2l7UCnqx6b"
      },
      "source": [
        "Ind_List = list(df.keys())"
      ],
      "execution_count": 11,
      "outputs": []
    },
    {
      "cell_type": "code",
      "metadata": {
        "colab": {
          "base_uri": "https://localhost:8080/"
        },
        "id": "-i_1napuq8J8",
        "outputId": "38240fa5-568e-46be-b522-14b285818e0e"
      },
      "source": [
        "# checking if Yellow Cards and Red Cards are attributes in the given df\n",
        "print(\"Yellow Cards\" in Ind_List, \"Red Cards\" in Ind_List)"
      ],
      "execution_count": 13,
      "outputs": [
        {
          "output_type": "stream",
          "name": "stdout",
          "text": [
            "True True\n"
          ]
        }
      ]
    },
    {
      "cell_type": "code",
      "metadata": {
        "id": "__iluVNsrHSI"
      },
      "source": [
        "df = df.loc[:, [\"Team\", \"Yellow Cards\", \"Red Cards\"]]"
      ],
      "execution_count": 19,
      "outputs": []
    },
    {
      "cell_type": "code",
      "metadata": {
        "id": "ASFKalnisVp-"
      },
      "source": [
        "df = df.sort_values([\"Red Cards\", \"Yellow Cards\"], ascending= False)"
      ],
      "execution_count": 22,
      "outputs": []
    },
    {
      "cell_type": "code",
      "metadata": {
        "colab": {
          "base_uri": "https://localhost:8080/",
          "height": 206
        },
        "id": "YuRzSryrsKdY",
        "outputId": "08574bff-38fb-4a21-d24a-2eb9c46754f0"
      },
      "source": [
        "df.head()"
      ],
      "execution_count": 24,
      "outputs": [
        {
          "output_type": "execute_result",
          "data": {
            "text/html": [
              "<div>\n",
              "<style scoped>\n",
              "    .dataframe tbody tr th:only-of-type {\n",
              "        vertical-align: middle;\n",
              "    }\n",
              "\n",
              "    .dataframe tbody tr th {\n",
              "        vertical-align: top;\n",
              "    }\n",
              "\n",
              "    .dataframe thead th {\n",
              "        text-align: right;\n",
              "    }\n",
              "</style>\n",
              "<table border=\"1\" class=\"dataframe\">\n",
              "  <thead>\n",
              "    <tr style=\"text-align: right;\">\n",
              "      <th></th>\n",
              "      <th>Team</th>\n",
              "      <th>Yellow Cards</th>\n",
              "      <th>Red Cards</th>\n",
              "    </tr>\n",
              "  </thead>\n",
              "  <tbody>\n",
              "    <tr>\n",
              "      <th>6</th>\n",
              "      <td>Greece</td>\n",
              "      <td>9</td>\n",
              "      <td>1</td>\n",
              "    </tr>\n",
              "    <tr>\n",
              "      <th>9</th>\n",
              "      <td>Poland</td>\n",
              "      <td>7</td>\n",
              "      <td>1</td>\n",
              "    </tr>\n",
              "    <tr>\n",
              "      <th>11</th>\n",
              "      <td>Republic of Ireland</td>\n",
              "      <td>6</td>\n",
              "      <td>1</td>\n",
              "    </tr>\n",
              "    <tr>\n",
              "      <th>7</th>\n",
              "      <td>Italy</td>\n",
              "      <td>16</td>\n",
              "      <td>0</td>\n",
              "    </tr>\n",
              "    <tr>\n",
              "      <th>10</th>\n",
              "      <td>Portugal</td>\n",
              "      <td>12</td>\n",
              "      <td>0</td>\n",
              "    </tr>\n",
              "  </tbody>\n",
              "</table>\n",
              "</div>"
            ],
            "text/plain": [
              "                   Team  Yellow Cards  Red Cards\n",
              "6                Greece             9          1\n",
              "9                Poland             7          1\n",
              "11  Republic of Ireland             6          1\n",
              "7                 Italy            16          0\n",
              "10             Portugal            12          0"
            ]
          },
          "metadata": {},
          "execution_count": 24
        }
      ]
    },
    {
      "cell_type": "code",
      "metadata": {
        "id": "pHU28KtZszpW"
      },
      "source": [
        "df.to_csv(\"/content/internship-test2/output/answer-3/main.csv\")"
      ],
      "execution_count": 23,
      "outputs": []
    },
    {
      "cell_type": "code",
      "metadata": {
        "id": "ulEY2tMptErk"
      },
      "source": [
        ""
      ],
      "execution_count": null,
      "outputs": []
    }
  ]
}