{
  "nbformat": 4,
  "nbformat_minor": 0,
  "metadata": {
    "colab": {
      "name": "code1.ipynb",
      "provenance": []
    },
    "kernelspec": {
      "name": "python3",
      "display_name": "Python 3"
    },
    "language_info": {
      "name": "python"
    }
  },
  "cells": [
    {
      "cell_type": "code",
      "metadata": {
        "colab": {
          "base_uri": "https://localhost:8080/"
        },
        "id": "RNtoudYAyVUT",
        "outputId": "e0451ad9-fb37-4159-d415-f846cae51829"
      },
      "source": [
        "!git clone https://github.com/MudduChaithanyaSai/internship-test2.git"
      ],
      "execution_count": 5,
      "outputs": [
        {
          "output_type": "stream",
          "name": "stdout",
          "text": [
            "Cloning into 'internship-test2'...\n",
            "remote: Enumerating objects: 88, done.\u001b[K\n",
            "remote: Counting objects: 100% (88/88), done.\u001b[K\n",
            "remote: Compressing objects: 100% (81/81), done.\u001b[K\n",
            "remote: Total 88 (delta 39), reused 15 (delta 2), pack-reused 0\u001b[K\n",
            "Unpacking objects: 100% (88/88), done.\n"
          ]
        }
      ]
    },
    {
      "cell_type": "code",
      "metadata": {
        "colab": {
          "base_uri": "https://localhost:8080/"
        },
        "id": "Y19vz0w1jJr1",
        "outputId": "d9291527-2607-45da-b3a1-7acd9883a359"
      },
      "source": [
        "from google.colab import drive\n",
        "drive.mount('/content/drive')"
      ],
      "execution_count": null,
      "outputs": [
        {
          "output_type": "stream",
          "name": "stdout",
          "text": [
            "Mounted at /content/drive\n"
          ]
        }
      ]
    },
    {
      "cell_type": "code",
      "metadata": {
        "id": "9xgU4Uq6fH_M"
      },
      "source": [
        "import pandas as pd\n"
      ],
      "execution_count": 2,
      "outputs": []
    },
    {
      "cell_type": "code",
      "metadata": {
        "id": "kBx5UFnIguVQ"
      },
      "source": [
        "#add respective path of the mian.csv file here\n",
        "data_path = \"/content/internship-test2/input/question-1/main.csv\""
      ],
      "execution_count": 6,
      "outputs": []
    },
    {
      "cell_type": "code",
      "metadata": {
        "id": "o0W2XcF8gluX"
      },
      "source": [
        "df = pd.read_csv(data_path)"
      ],
      "execution_count": 7,
      "outputs": []
    },
    {
      "cell_type": "code",
      "metadata": {
        "colab": {
          "base_uri": "https://localhost:8080/"
        },
        "id": "MvWHPYDKgrZE",
        "outputId": "830047f8-5258-4ec7-8754-2110b9a1d5a1"
      },
      "source": [
        "df.shape"
      ],
      "execution_count": 8,
      "outputs": [
        {
          "output_type": "execute_result",
          "data": {
            "text/plain": [
              "(55, 12)"
            ]
          },
          "metadata": {},
          "execution_count": 8
        }
      ]
    },
    {
      "cell_type": "code",
      "metadata": {
        "colab": {
          "base_uri": "https://localhost:8080/",
          "height": 206
        },
        "id": "wxjP2KHeg4th",
        "outputId": "35682166-2a5e-45fa-c821-f878ef94d50b"
      },
      "source": [
        "df.head()"
      ],
      "execution_count": 9,
      "outputs": [
        {
          "output_type": "execute_result",
          "data": {
            "text/html": [
              "<div>\n",
              "<style scoped>\n",
              "    .dataframe tbody tr th:only-of-type {\n",
              "        vertical-align: middle;\n",
              "    }\n",
              "\n",
              "    .dataframe tbody tr th {\n",
              "        vertical-align: top;\n",
              "    }\n",
              "\n",
              "    .dataframe thead th {\n",
              "        text-align: right;\n",
              "    }\n",
              "</style>\n",
              "<table border=\"1\" class=\"dataframe\">\n",
              "  <thead>\n",
              "    <tr style=\"text-align: right;\">\n",
              "      <th></th>\n",
              "      <th>Year</th>\n",
              "      <th>Population</th>\n",
              "      <th>Total</th>\n",
              "      <th>Violent</th>\n",
              "      <th>Property</th>\n",
              "      <th>Murder</th>\n",
              "      <th>Forcible_Rape</th>\n",
              "      <th>Robbery</th>\n",
              "      <th>Aggravated_assault</th>\n",
              "      <th>Burglary</th>\n",
              "      <th>Larceny_Theft</th>\n",
              "      <th>Vehicle_Theft</th>\n",
              "    </tr>\n",
              "  </thead>\n",
              "  <tbody>\n",
              "    <tr>\n",
              "      <th>0</th>\n",
              "      <td>1960</td>\n",
              "      <td>179323175</td>\n",
              "      <td>3384200</td>\n",
              "      <td>288460</td>\n",
              "      <td>3095700</td>\n",
              "      <td>9110</td>\n",
              "      <td>17190</td>\n",
              "      <td>107840</td>\n",
              "      <td>154320</td>\n",
              "      <td>912100</td>\n",
              "      <td>1855400</td>\n",
              "      <td>328200</td>\n",
              "    </tr>\n",
              "    <tr>\n",
              "      <th>1</th>\n",
              "      <td>1961</td>\n",
              "      <td>182992000</td>\n",
              "      <td>3488000</td>\n",
              "      <td>289390</td>\n",
              "      <td>3198600</td>\n",
              "      <td>8740</td>\n",
              "      <td>17220</td>\n",
              "      <td>106670</td>\n",
              "      <td>156760</td>\n",
              "      <td>949600</td>\n",
              "      <td>1913000</td>\n",
              "      <td>336000</td>\n",
              "    </tr>\n",
              "    <tr>\n",
              "      <th>2</th>\n",
              "      <td>1962</td>\n",
              "      <td>185771000</td>\n",
              "      <td>3752200</td>\n",
              "      <td>301510</td>\n",
              "      <td>3450700</td>\n",
              "      <td>8530</td>\n",
              "      <td>17550</td>\n",
              "      <td>110860</td>\n",
              "      <td>164570</td>\n",
              "      <td>994300</td>\n",
              "      <td>2089600</td>\n",
              "      <td>366800</td>\n",
              "    </tr>\n",
              "    <tr>\n",
              "      <th>3</th>\n",
              "      <td>1963</td>\n",
              "      <td>188483000</td>\n",
              "      <td>4109500</td>\n",
              "      <td>316970</td>\n",
              "      <td>3792500</td>\n",
              "      <td>8640</td>\n",
              "      <td>17650</td>\n",
              "      <td>116470</td>\n",
              "      <td>174210</td>\n",
              "      <td>1086400</td>\n",
              "      <td>2297800</td>\n",
              "      <td>408300</td>\n",
              "    </tr>\n",
              "    <tr>\n",
              "      <th>4</th>\n",
              "      <td>1964</td>\n",
              "      <td>191141000</td>\n",
              "      <td>4564600</td>\n",
              "      <td>364220</td>\n",
              "      <td>4200400</td>\n",
              "      <td>9360</td>\n",
              "      <td>21420</td>\n",
              "      <td>130390</td>\n",
              "      <td>203050</td>\n",
              "      <td>1213200</td>\n",
              "      <td>2514400</td>\n",
              "      <td>472800</td>\n",
              "    </tr>\n",
              "  </tbody>\n",
              "</table>\n",
              "</div>"
            ],
            "text/plain": [
              "   Year  Population    Total  ...  Burglary  Larceny_Theft  Vehicle_Theft\n",
              "0  1960   179323175  3384200  ...    912100        1855400         328200\n",
              "1  1961   182992000  3488000  ...    949600        1913000         336000\n",
              "2  1962   185771000  3752200  ...    994300        2089600         366800\n",
              "3  1963   188483000  4109500  ...   1086400        2297800         408300\n",
              "4  1964   191141000  4564600  ...   1213200        2514400         472800\n",
              "\n",
              "[5 rows x 12 columns]"
            ]
          },
          "metadata": {},
          "execution_count": 9
        }
      ]
    },
    {
      "cell_type": "code",
      "metadata": {
        "colab": {
          "base_uri": "https://localhost:8080/"
        },
        "id": "vEGl0-vCg-AR",
        "outputId": "4631ee07-1c58-4742-e63f-ce094d43f2e4"
      },
      "source": [
        "df.keys()"
      ],
      "execution_count": 10,
      "outputs": [
        {
          "output_type": "execute_result",
          "data": {
            "text/plain": [
              "Index(['Year', 'Population', 'Total', 'Violent', 'Property', 'Murder',\n",
              "       'Forcible_Rape', 'Robbery', 'Aggravated_assault', 'Burglary',\n",
              "       'Larceny_Theft', 'Vehicle_Theft'],\n",
              "      dtype='object')"
            ]
          },
          "metadata": {},
          "execution_count": 10
        }
      ]
    },
    {
      "cell_type": "code",
      "metadata": {
        "id": "StwPN80tiQa3"
      },
      "source": [
        "df = df.drop(columns = \"Total\")\n"
      ],
      "execution_count": 11,
      "outputs": []
    },
    {
      "cell_type": "code",
      "metadata": {
        "id": "ERLZVdK5hJns"
      },
      "source": [
        "df = df.set_index(\"Year\")"
      ],
      "execution_count": 12,
      "outputs": []
    },
    {
      "cell_type": "code",
      "metadata": {
        "colab": {
          "base_uri": "https://localhost:8080/",
          "height": 237
        },
        "id": "I7ZxbS1sykKf",
        "outputId": "16029f9d-f9ec-4f44-f36d-6c88383b6938"
      },
      "source": [
        "df.head()"
      ],
      "execution_count": 13,
      "outputs": [
        {
          "output_type": "execute_result",
          "data": {
            "text/html": [
              "<div>\n",
              "<style scoped>\n",
              "    .dataframe tbody tr th:only-of-type {\n",
              "        vertical-align: middle;\n",
              "    }\n",
              "\n",
              "    .dataframe tbody tr th {\n",
              "        vertical-align: top;\n",
              "    }\n",
              "\n",
              "    .dataframe thead th {\n",
              "        text-align: right;\n",
              "    }\n",
              "</style>\n",
              "<table border=\"1\" class=\"dataframe\">\n",
              "  <thead>\n",
              "    <tr style=\"text-align: right;\">\n",
              "      <th></th>\n",
              "      <th>Population</th>\n",
              "      <th>Violent</th>\n",
              "      <th>Property</th>\n",
              "      <th>Murder</th>\n",
              "      <th>Forcible_Rape</th>\n",
              "      <th>Robbery</th>\n",
              "      <th>Aggravated_assault</th>\n",
              "      <th>Burglary</th>\n",
              "      <th>Larceny_Theft</th>\n",
              "      <th>Vehicle_Theft</th>\n",
              "    </tr>\n",
              "    <tr>\n",
              "      <th>Year</th>\n",
              "      <th></th>\n",
              "      <th></th>\n",
              "      <th></th>\n",
              "      <th></th>\n",
              "      <th></th>\n",
              "      <th></th>\n",
              "      <th></th>\n",
              "      <th></th>\n",
              "      <th></th>\n",
              "      <th></th>\n",
              "    </tr>\n",
              "  </thead>\n",
              "  <tbody>\n",
              "    <tr>\n",
              "      <th>1960</th>\n",
              "      <td>179323175</td>\n",
              "      <td>288460</td>\n",
              "      <td>3095700</td>\n",
              "      <td>9110</td>\n",
              "      <td>17190</td>\n",
              "      <td>107840</td>\n",
              "      <td>154320</td>\n",
              "      <td>912100</td>\n",
              "      <td>1855400</td>\n",
              "      <td>328200</td>\n",
              "    </tr>\n",
              "    <tr>\n",
              "      <th>1961</th>\n",
              "      <td>182992000</td>\n",
              "      <td>289390</td>\n",
              "      <td>3198600</td>\n",
              "      <td>8740</td>\n",
              "      <td>17220</td>\n",
              "      <td>106670</td>\n",
              "      <td>156760</td>\n",
              "      <td>949600</td>\n",
              "      <td>1913000</td>\n",
              "      <td>336000</td>\n",
              "    </tr>\n",
              "    <tr>\n",
              "      <th>1962</th>\n",
              "      <td>185771000</td>\n",
              "      <td>301510</td>\n",
              "      <td>3450700</td>\n",
              "      <td>8530</td>\n",
              "      <td>17550</td>\n",
              "      <td>110860</td>\n",
              "      <td>164570</td>\n",
              "      <td>994300</td>\n",
              "      <td>2089600</td>\n",
              "      <td>366800</td>\n",
              "    </tr>\n",
              "    <tr>\n",
              "      <th>1963</th>\n",
              "      <td>188483000</td>\n",
              "      <td>316970</td>\n",
              "      <td>3792500</td>\n",
              "      <td>8640</td>\n",
              "      <td>17650</td>\n",
              "      <td>116470</td>\n",
              "      <td>174210</td>\n",
              "      <td>1086400</td>\n",
              "      <td>2297800</td>\n",
              "      <td>408300</td>\n",
              "    </tr>\n",
              "    <tr>\n",
              "      <th>1964</th>\n",
              "      <td>191141000</td>\n",
              "      <td>364220</td>\n",
              "      <td>4200400</td>\n",
              "      <td>9360</td>\n",
              "      <td>21420</td>\n",
              "      <td>130390</td>\n",
              "      <td>203050</td>\n",
              "      <td>1213200</td>\n",
              "      <td>2514400</td>\n",
              "      <td>472800</td>\n",
              "    </tr>\n",
              "  </tbody>\n",
              "</table>\n",
              "</div>"
            ],
            "text/plain": [
              "      Population  Violent  Property  ...  Burglary  Larceny_Theft  Vehicle_Theft\n",
              "Year                                 ...                                        \n",
              "1960   179323175   288460   3095700  ...    912100        1855400         328200\n",
              "1961   182992000   289390   3198600  ...    949600        1913000         336000\n",
              "1962   185771000   301510   3450700  ...    994300        2089600         366800\n",
              "1963   188483000   316970   3792500  ...   1086400        2297800         408300\n",
              "1964   191141000   364220   4200400  ...   1213200        2514400         472800\n",
              "\n",
              "[5 rows x 10 columns]"
            ]
          },
          "metadata": {},
          "execution_count": 13
        }
      ]
    },
    {
      "cell_type": "code",
      "metadata": {
        "colab": {
          "base_uri": "https://localhost:8080/",
          "height": 206
        },
        "id": "oHb6DvBBzVUo",
        "outputId": "079b78c5-d1c4-471a-8a01-7370507bb3a1"
      },
      "source": [
        "df.index.name = None\n",
        "df.head()"
      ],
      "execution_count": 15,
      "outputs": [
        {
          "output_type": "execute_result",
          "data": {
            "text/html": [
              "<div>\n",
              "<style scoped>\n",
              "    .dataframe tbody tr th:only-of-type {\n",
              "        vertical-align: middle;\n",
              "    }\n",
              "\n",
              "    .dataframe tbody tr th {\n",
              "        vertical-align: top;\n",
              "    }\n",
              "\n",
              "    .dataframe thead th {\n",
              "        text-align: right;\n",
              "    }\n",
              "</style>\n",
              "<table border=\"1\" class=\"dataframe\">\n",
              "  <thead>\n",
              "    <tr style=\"text-align: right;\">\n",
              "      <th></th>\n",
              "      <th>Population</th>\n",
              "      <th>Violent</th>\n",
              "      <th>Property</th>\n",
              "      <th>Murder</th>\n",
              "      <th>Forcible_Rape</th>\n",
              "      <th>Robbery</th>\n",
              "      <th>Aggravated_assault</th>\n",
              "      <th>Burglary</th>\n",
              "      <th>Larceny_Theft</th>\n",
              "      <th>Vehicle_Theft</th>\n",
              "    </tr>\n",
              "  </thead>\n",
              "  <tbody>\n",
              "    <tr>\n",
              "      <th>1960</th>\n",
              "      <td>179323175</td>\n",
              "      <td>288460</td>\n",
              "      <td>3095700</td>\n",
              "      <td>9110</td>\n",
              "      <td>17190</td>\n",
              "      <td>107840</td>\n",
              "      <td>154320</td>\n",
              "      <td>912100</td>\n",
              "      <td>1855400</td>\n",
              "      <td>328200</td>\n",
              "    </tr>\n",
              "    <tr>\n",
              "      <th>1961</th>\n",
              "      <td>182992000</td>\n",
              "      <td>289390</td>\n",
              "      <td>3198600</td>\n",
              "      <td>8740</td>\n",
              "      <td>17220</td>\n",
              "      <td>106670</td>\n",
              "      <td>156760</td>\n",
              "      <td>949600</td>\n",
              "      <td>1913000</td>\n",
              "      <td>336000</td>\n",
              "    </tr>\n",
              "    <tr>\n",
              "      <th>1962</th>\n",
              "      <td>185771000</td>\n",
              "      <td>301510</td>\n",
              "      <td>3450700</td>\n",
              "      <td>8530</td>\n",
              "      <td>17550</td>\n",
              "      <td>110860</td>\n",
              "      <td>164570</td>\n",
              "      <td>994300</td>\n",
              "      <td>2089600</td>\n",
              "      <td>366800</td>\n",
              "    </tr>\n",
              "    <tr>\n",
              "      <th>1963</th>\n",
              "      <td>188483000</td>\n",
              "      <td>316970</td>\n",
              "      <td>3792500</td>\n",
              "      <td>8640</td>\n",
              "      <td>17650</td>\n",
              "      <td>116470</td>\n",
              "      <td>174210</td>\n",
              "      <td>1086400</td>\n",
              "      <td>2297800</td>\n",
              "      <td>408300</td>\n",
              "    </tr>\n",
              "    <tr>\n",
              "      <th>1964</th>\n",
              "      <td>191141000</td>\n",
              "      <td>364220</td>\n",
              "      <td>4200400</td>\n",
              "      <td>9360</td>\n",
              "      <td>21420</td>\n",
              "      <td>130390</td>\n",
              "      <td>203050</td>\n",
              "      <td>1213200</td>\n",
              "      <td>2514400</td>\n",
              "      <td>472800</td>\n",
              "    </tr>\n",
              "  </tbody>\n",
              "</table>\n",
              "</div>"
            ],
            "text/plain": [
              "      Population  Violent  Property  ...  Burglary  Larceny_Theft  Vehicle_Theft\n",
              "1960   179323175   288460   3095700  ...    912100        1855400         328200\n",
              "1961   182992000   289390   3198600  ...    949600        1913000         336000\n",
              "1962   185771000   301510   3450700  ...    994300        2089600         366800\n",
              "1963   188483000   316970   3792500  ...   1086400        2297800         408300\n",
              "1964   191141000   364220   4200400  ...   1213200        2514400         472800\n",
              "\n",
              "[5 rows x 10 columns]"
            ]
          },
          "metadata": {},
          "execution_count": 15
        }
      ]
    },
    {
      "cell_type": "code",
      "metadata": {
        "id": "XvdhwA3-hm15"
      },
      "source": [
        "df.to_csv(\"/content/internship-test2/output/answer-1/main.csv\")"
      ],
      "execution_count": 17,
      "outputs": []
    },
    {
      "cell_type": "code",
      "metadata": {
        "id": "v-wplJrrjLsQ"
      },
      "source": [
        ""
      ],
      "execution_count": null,
      "outputs": []
    }
  ]
}